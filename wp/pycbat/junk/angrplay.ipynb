{
 "cells": [
  {
   "cell_type": "code",
   "execution_count": 108,
   "metadata": {},
   "outputs": [],
   "source": [
    "import angr"
   ]
  },
  {
   "cell_type": "code",
   "execution_count": 109,
   "metadata": {},
   "outputs": [
    {
     "name": "stderr",
     "output_type": "stream",
     "text": [
      "WARNING  | 2023-02-24 14:22:16,654 | cle.loader     | The main binary is a position-independent executable. It is being loaded with a base address of 0x400000.\n"
     ]
    },
    {
     "name": "stdout",
     "output_type": "stream",
     "text": [
      "<Arch AMD64 (LE)>\n",
      "['__class__', '__delattr__', '__dict__', '__dir__', '__doc__', '__eq__', '__format__', '__ge__', '__getattribute__', '__gt__', '__hash__', '__init__', '__init_subclass__', '__le__', '__lt__', '__module__', '__ne__', '__new__', '__reduce__', '__reduce_ex__', '__repr__', '__setattr__', '__sizeof__', '__slotnames__', '__str__', '__subclasshook__', '__weakref__', '_arch', '_base_name', '_can_refine_int', '_fields', '_init_str', '_refine', '_refine_dir', '_size', '_with_arch', 'alignment', 'arch', 'base', 'c_repr', 'copy', 'extract', 'extract_claripy', 'label', 'signed', 'size', 'store', 'with_arch']\n",
      "True\n",
      "<bound method SimTypeInt.c_repr of int>\n",
      "None\n",
      "True\n",
      "4\n"
     ]
    }
   ],
   "source": [
    "proj = angr.Project(\"foo.o\", load_debug_info=True)\n",
    "print(proj.arch)\n",
    "t = angr.types.parse_type('int')\n",
    "t.arch = proj.arch\n",
    "# print(inspect.getmembers(t))\n",
    "print(dir(t))\n",
    "print(t.base)\n",
    "print(t.c_repr)\n",
    "print(t.label)\n",
    "print(t.signed)\n",
    "t2 = t.with_arch(proj.arch)\n",
    "print(t2.alignment)"
   ]
  },
  {
   "cell_type": "code",
   "execution_count": 4,
   "metadata": {},
   "outputs": [
    {
     "data": {
      "text/plain": [
       "OrderedDict([('x', int), ('y', long)])"
      ]
     },
     "execution_count": 4,
     "metadata": {},
     "output_type": "execute_result"
    }
   ],
   "source": [
    "angr.types.parse_type('struct aa {int x; long y;}').fields"
   ]
  },
  {
   "cell_type": "code",
   "execution_count": 9,
   "metadata": {},
   "outputs": [
    {
     "data": {
      "text/plain": [
       "['ARCH',\n",
       " 'ARG_REGS',\n",
       " 'ArgSession',\n",
       " 'CALLEE_CLEANUP',\n",
       " 'CALLER_SAVED_REGS',\n",
       " 'FP_ARG_REGS',\n",
       " 'FP_RETURN_VAL',\n",
       " 'OVERFLOW_FP_RETURN_VAL',\n",
       " 'OVERFLOW_RETURN_VAL',\n",
       " 'RETURN_ADDR',\n",
       " 'RETURN_VAL',\n",
       " 'STACKARG_SP_BUFF',\n",
       " 'STACKARG_SP_DIFF',\n",
       " 'STACK_ALIGNMENT',\n",
       " '__annotations__',\n",
       " '__class__',\n",
       " '__delattr__',\n",
       " '__dict__',\n",
       " '__dir__',\n",
       " '__doc__',\n",
       " '__eq__',\n",
       " '__format__',\n",
       " '__ge__',\n",
       " '__getattribute__',\n",
       " '__gt__',\n",
       " '__hash__',\n",
       " '__init__',\n",
       " '__init_subclass__',\n",
       " '__le__',\n",
       " '__lt__',\n",
       " '__module__',\n",
       " '__ne__',\n",
       " '__new__',\n",
       " '__reduce__',\n",
       " '__reduce_ex__',\n",
       " '__repr__',\n",
       " '__setattr__',\n",
       " '__sizeof__',\n",
       " '__str__',\n",
       " '__subclasshook__',\n",
       " '__weakref__',\n",
       " '_classify',\n",
       " '_combine_classes',\n",
       " '_flatten',\n",
       " '_match',\n",
       " '_standardize_value',\n",
       " 'arch',\n",
       " 'arg_locs',\n",
       " 'arg_session',\n",
       " 'find_cc',\n",
       " 'fp_args',\n",
       " 'get_arg_info',\n",
       " 'get_args',\n",
       " 'guess_prototype',\n",
       " 'int_args',\n",
       " 'is_fp_arg',\n",
       " 'is_fp_value',\n",
       " 'memory_args',\n",
       " 'next_arg',\n",
       " 'return_addr',\n",
       " 'return_in_implicit_outparam',\n",
       " 'return_val',\n",
       " 'set_return_val',\n",
       " 'setup_callsite',\n",
       " 'stack_space',\n",
       " 'teardown_callsite']"
      ]
     },
     "execution_count": 9,
     "metadata": {},
     "output_type": "execute_result"
    }
   ],
   "source": [
    "dir(proj.factory.cc()) # calling conventions. Interesting\n"
   ]
  },
  {
   "cell_type": "markdown",
   "metadata": {},
   "source": [
    "Hmm. Here's an idea. Literally use angr to write specs?\n",
    "mem.long.yada == foo\n",
    "\n",
    "https://api.angr.io/angr.html#module-angr.calling_conventions\n",
    "\n",
    "\n",
    "state \n",
    "\n",
    "unroll_loop parameter. That's interesting."
   ]
  },
  {
   "cell_type": "code",
   "execution_count": 118,
   "metadata": {},
   "outputs": [
    {
     "data": {
      "text/plain": [
       "<angr.storage.memory_mixins.DefaultMemory at 0x7f5498ab8f70>"
      ]
     },
     "execution_count": 118,
     "metadata": {},
     "output_type": "execute_result"
    }
   ],
   "source": [
    "st = proj.factory.entry_state()\n",
    "st = proj.factory.entry_state(add_options={angr.options.LAZY_SOLVES, angr.options.SYMBOLIC, angr.options.SYMBOLIC_INITIAL_VALUES})\n",
    "st.regs.rax\n",
    "st.mem[0x601048].long\n",
    "st.registers\n",
    "st.memory\n",
    "list(st.solver.get_variables(\"\"))\n",
    "st.regs.rax.to_claripy()\n",
    "st.registers."
   ]
  },
  {
   "cell_type": "code",
   "execution_count": 19,
   "metadata": {},
   "outputs": [],
   "source": [
    "import claripy\n",
    "s = claripy.Solver()"
   ]
  },
  {
   "cell_type": "code",
   "execution_count": null,
   "metadata": {},
   "outputs": [],
   "source": []
  },
  {
   "cell_type": "code",
   "execution_count": 21,
   "metadata": {},
   "outputs": [
    {
     "data": {
      "text/plain": [
       "(<Bool False>,)"
      ]
     },
     "execution_count": 21,
     "metadata": {},
     "output_type": "execute_result"
    }
   ],
   "source": [
    "s.add(st.regs.rax == st.regs.rdi)\n",
    "()"
   ]
  },
  {
   "cell_type": "code",
   "execution_count": 88,
   "metadata": {},
   "outputs": [
    {
     "name": "stderr",
     "output_type": "stream",
     "text": [
      "WARNING  | 2023-02-23 14:36:39,907 | angr.calling_conventions | Guessing call prototype. Please specify prototype.\n",
      "WARNING  | 2023-02-23 14:36:39,919 | angr.storage.memory_mixins.default_filler_mixin | The program is accessing register with an unspecified value. This could indicate unwanted behavior.\n",
      "WARNING  | 2023-02-23 14:36:39,921 | angr.storage.memory_mixins.default_filler_mixin | angr will cope with this by generating an unconstrained symbolic variable and continuing. You can resolve this by:\n",
      "WARNING  | 2023-02-23 14:36:39,922 | angr.storage.memory_mixins.default_filler_mixin | 1) setting a value to the initial state\n",
      "WARNING  | 2023-02-23 14:36:39,923 | angr.storage.memory_mixins.default_filler_mixin | 2) adding the state option ZERO_FILL_UNCONSTRAINED_{MEMORY,REGISTERS}, to make unknown regions hold null\n",
      "WARNING  | 2023-02-23 14:36:39,925 | angr.storage.memory_mixins.default_filler_mixin | 3) adding the state option SYMBOL_FILL_UNCONSTRAINED_{MEMORY,REGISTERS}, to suppress these messages.\n",
      "WARNING  | 2023-02-23 14:36:39,927 | angr.storage.memory_mixins.default_filler_mixin | Filling register rbp with 8 unconstrained bytes referenced from 0x400000 (foo+0x0 in foo.o (0x0))\n"
     ]
    },
    {
     "data": {
      "text/plain": [
       "<BV64 reg_rbp_63_64{UNINITIALIZED} + 0x10>"
      ]
     },
     "execution_count": 88,
     "metadata": {},
     "output_type": "execute_result"
    }
   ],
   "source": [
    "#https://api.angr.io/angr.html#angr.state_plugins.debug_variables.SimDebugVariablePlugin\n",
    "#p = angr.Project(\"various_variables\", load_debug_info=True)\n",
    "proj.kb.dvars.load_from_dwarf()\n",
    "state = proj.factory.call_state(0x400000) # navigate to the state you want\n",
    "#state.dvars.get_variable(\"x\").deref.mem\n",
    "state.dvars.dwarf_cfa"
   ]
  },
  {
   "cell_type": "code",
   "execution_count": 42,
   "metadata": {},
   "outputs": [
    {
     "data": {
      "text/plain": [
       "<module 'angr.analyses.decompiler' from '/home/philip/.local/lib/python3.10/site-packages/angr/analyses/decompiler/__init__.py'>"
      ]
     },
     "execution_count": 42,
     "metadata": {},
     "output_type": "execute_result"
    }
   ],
   "source": [
    "angr.analyses.decompiler"
   ]
  },
  {
   "cell_type": "code",
   "execution_count": 104,
   "metadata": {},
   "outputs": [
    {
     "name": "stderr",
     "output_type": "stream",
     "text": [
      "WARNING  | 2023-02-23 14:52:21,986 | angr.analyses.cfg.cfg_base | \"auto_load_libs\" is enabled. With libraries loaded in project, CFG will cover libraries, which may take significantly more time than expected. You may reload the binary with \"auto_load_libs\" disabled, or specify \"regions\" to limit the scope of CFG recovery.\n"
     ]
    },
    {
     "data": {
      "text/plain": [
       "'long long foo(unsigned long a0, unsigned long a1)\\n{\\n    char v0;  // [bp-0x20]\\n\\n    v0 = a1;\\n    return a0 + 3;\\n}\\n'"
      ]
     },
     "execution_count": 104,
     "metadata": {},
     "output_type": "execute_result"
    }
   ],
   "source": [
    "#proj.analyses.Decompiler()\n",
    "sym = proj.loader.find_symbol(\"foo\")\n",
    "#proj.load_function(sym)\n",
    "cfg = proj.analyses.CFGFast()\n",
    "cfg.normalize()\n",
    "foo_func = cfg.kb.functions[\"foo\"]\n",
    "foo_func.normalize()\n",
    "decomp = proj.analyses.Decompiler(foo_func)\n",
    "decomp.codegen.cfunc.c_repr()\n"
   ]
  },
  {
   "cell_type": "code",
   "execution_count": 94,
   "metadata": {},
   "outputs": [
    {
     "data": {
      "text/plain": [
       "[int, char]"
      ]
     },
     "execution_count": 94,
     "metadata": {},
     "output_type": "execute_result"
    }
   ],
   "source": [
    "t = angr.sim_type.parse_signature(\"int foo(int x, char y)\")\n",
    "t.arg_names\n",
    "t.args\n",
    "t."
   ]
  },
  {
   "cell_type": "code",
   "execution_count": 107,
   "metadata": {},
   "outputs": [
    {
     "data": {
      "text/plain": [
       "<Function foo (0x400000)>"
      ]
     },
     "execution_count": 107,
     "metadata": {},
     "output_type": "execute_result"
    }
   ],
   "source": [
    "\n",
    "proj.kb.defs\n",
    "proj.kb.propagations\n",
    "# angr.knowledge_plugins.patches.PatchManager\n",
    "proj.kb.functions[\"foo\"] # need to fun CFG first"
   ]
  },
  {
   "cell_type": "code",
   "execution_count": null,
   "metadata": {},
   "outputs": [],
   "source": [
    "angr.analyses.bindiff.FunctionDiff\n",
    "https://api.angr.io/angr.html#angr.analyses.bindiff.FunctionDiff\n"
   ]
  }
 ],
 "metadata": {
  "kernelspec": {
   "display_name": "Python 3.10.6 64-bit",
   "language": "python",
   "name": "python3"
  },
  "language_info": {
   "codemirror_mode": {
    "name": "ipython",
    "version": 3
   },
   "file_extension": ".py",
   "mimetype": "text/x-python",
   "name": "python",
   "nbconvert_exporter": "python",
   "pygments_lexer": "ipython3",
   "version": "3.10.6"
  },
  "orig_nbformat": 4,
  "vscode": {
   "interpreter": {
    "hash": "31f2aee4e71d21fbe5cf8b01ff0e069b9275f58929596ceb00d14d90e3e16cd6"
   }
  }
 },
 "nbformat": 4,
 "nbformat_minor": 2
}
